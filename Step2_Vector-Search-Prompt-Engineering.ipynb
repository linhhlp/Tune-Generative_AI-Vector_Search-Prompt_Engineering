{
 "cells": [
  {
   "attachments": {},
   "cell_type": "markdown",
   "metadata": {},
   "source": [
    "# Vector Search and Prompt Engineering"
   ]
  },
  {
   "attachments": {},
   "cell_type": "markdown",
   "metadata": {},
   "source": [
    "In the previous Chapter, we created a new database of car manuals with vectorized text.\n",
    "\n",
    "In this Chapter, we will search for issues which are close to the input query."
   ]
  },
  {
   "attachments": {},
   "cell_type": "markdown",
   "metadata": {},
   "source": [
    "## Set up"
   ]
  },
  {
   "cell_type": "code",
   "execution_count": 2,
   "metadata": {},
   "outputs": [],
   "source": [
    "import cohere\n",
    "from cassandra import ConsistencyLevel\n",
    "from cassandra.auth import PlainTextAuthProvider\n",
    "from cassandra.cluster import Cluster\n",
    "\n",
    "# get free Trial API Key at https://cohere.ai/\n",
    "from cred import API_key\n",
    "\n",
    "co = cohere.Client(API_key)"
   ]
  },
  {
   "cell_type": "code",
   "execution_count": 3,
   "metadata": {},
   "outputs": [
    {
     "data": {
      "text/plain": [
       "<cassandra.cluster.ResultSet at 0x11ebc5ff1f0>"
      ]
     },
     "execution_count": 3,
     "metadata": {},
     "output_type": "execute_result"
    }
   ],
   "source": [
    "from cred import (ASTRA_CLIENT_ID, ASTRA_CLIENT_SECRET,\n",
    "                  SECURE_CONNECT_BUNDLE_PATH)\n",
    "\n",
    "KEYSPACE_NAME = \"demo\"\n",
    "TABLE_NAME = \"car_manual_vectorized\"\n",
    "\n",
    "cloud_config = {\"secure_connect_bundle\": SECURE_CONNECT_BUNDLE_PATH}\n",
    "auth_provider = PlainTextAuthProvider(ASTRA_CLIENT_ID, ASTRA_CLIENT_SECRET)\n",
    "cluster = Cluster(cloud=cloud_config, auth_provider=auth_provider, protocol_version=4)\n",
    "session = cluster.connect()\n",
    "session.execute(f\"USE {KEYSPACE_NAME};\")"
   ]
  },
  {
   "attachments": {},
   "cell_type": "markdown",
   "metadata": {},
   "source": [
    "## Main functions\n",
    "\n",
    "`answer`: using Generative AI to answer the input question.\n",
    "\n",
    "`prompt_engineer`: to engineer the input question by adding details of context and narrowing down the copes of the question."
   ]
  },
  {
   "cell_type": "code",
   "execution_count": 30,
   "metadata": {},
   "outputs": [],
   "source": [
    "def answer(prompt):\n",
    "    # The Generative Model to generate answers for\n",
    "    response = co.generate(  \n",
    "        model='command', #\n",
    "        #model= 'command-nightly',   \n",
    "        prompt = prompt,  \n",
    "        max_tokens=126,  \n",
    "        temperature=0.50)\n",
    "    res = response.generations[0].text\n",
    "\n",
    "    return res\n",
    "\n",
    "def prompt_engineer(text, limit=2):\n",
    "    response = co.embed(model=\"embed-english-v2.0\", texts=[text])\n",
    "    vec = response.embeddings[0]\n",
    "    #data = []\n",
    "    # Prompt Engineering\n",
    "    prompt = f'Using the following information to answer the question: \"{text}\"'\n",
    "    for row in session.execute(\n",
    "        f\"SELECT id, link, html, text, brand, model, year FROM {KEYSPACE_NAME}.{TABLE_NAME} \"\n",
    "        f\" ORDER BY html_car_vector_4096 ANN OF %s LIMIT {limit}\"\n",
    "        , [vec]\n",
    "):\n",
    "        #data.append([row.id, row.link, row.html, row.text])\n",
    "        prompt += \"\\n\\n\"+row.text\n",
    "    \n",
    "    return prompt.strip()"
   ]
  },
  {
   "attachments": {},
   "cell_type": "markdown",
   "metadata": {},
   "source": [
    "#### Using Generative AI without Prompt Engineering\n",
    "\n",
    "We can see how AI generate very general answer. It looks like the AI thinks that we are talking about the internet in general."
   ]
  },
  {
   "cell_type": "code",
   "execution_count": 31,
   "metadata": {},
   "outputs": [
    {
     "name": "stdout",
     "output_type": "stream",
     "text": [
      "\n",
      "There are a few things you can try to fix a broken wifi connection. First, make sure that your router is properly connected to the internet. If it is, try restarting your router. If that doesn't work, try restarting your computer. If none of those work, you may need to contact your internet service provider for help.\n"
     ]
    }
   ],
   "source": [
    "prompt = \"wifi does not work\"\n",
    "print(answer(prompt))"
   ]
  },
  {
   "attachments": {},
   "cell_type": "markdown",
   "metadata": {},
   "source": [
    "#### Using Generative AI with Prompt Engineering\n",
    "\n",
    "However, when we told AI about the specific information, it can generate much more informative and relevant answers."
   ]
  },
  {
   "cell_type": "code",
   "execution_count": 33,
   "metadata": {},
   "outputs": [
    {
     "name": "stdout",
     "output_type": "stream",
     "text": [
      "\n",
      "The answer is Tesla updates your vehicle's software wirelessly, constantly providing new features. Tesla recommends you install software updates at the earliest opportunity on your vehicle. To ensure the fastest and most reliable delivery of software updates, leave Wi-Fi turned on and connected whenever possible. In most cases, your vehicle must be connected to Wi-Fi to start an update (see Wi-Fi).\n"
     ]
    }
   ],
   "source": [
    "print(answer(prompt_engineer(prompt)))"
   ]
  },
  {
   "cell_type": "code",
   "execution_count": null,
   "metadata": {},
   "outputs": [],
   "source": [
    "# Close connection to Cassandra\n",
    "cluster.shutdown()"
   ]
  }
 ],
 "metadata": {
  "kernelspec": {
   "display_name": "Python 3 (ipykernel)",
   "language": "python",
   "name": "python3"
  },
  "language_info": {
   "codemirror_mode": {
    "name": "ipython",
    "version": 3
   },
   "file_extension": ".py",
   "mimetype": "text/x-python",
   "name": "python",
   "nbconvert_exporter": "python",
   "pygments_lexer": "ipython3",
   "version": "3.9.12"
  }
 },
 "nbformat": 4,
 "nbformat_minor": 2
}
